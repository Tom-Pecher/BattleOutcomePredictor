{
 "cells": [
  {
   "cell_type": "markdown",
   "metadata": {},
   "source": [
    "Import functionality"
   ]
  },
  {
   "cell_type": "code",
   "execution_count": 1,
   "metadata": {},
   "outputs": [],
   "source": [
    "from unit import Unit\n",
    "from team import Team\n",
    "from battle import Battle"
   ]
  },
  {
   "cell_type": "markdown",
   "metadata": {},
   "source": [
    "Import libraries"
   ]
  },
  {
   "cell_type": "code",
   "execution_count": 2,
   "metadata": {},
   "outputs": [],
   "source": [
    "import random\n",
    "import matplotlib.pyplot as plt"
   ]
  },
  {
   "cell_type": "markdown",
   "metadata": {},
   "source": [
    "Example 1: Observe changepoint"
   ]
  },
  {
   "cell_type": "code",
   "execution_count": 3,
   "metadata": {},
   "outputs": [
    {
     "name": "stdout",
     "output_type": "stream",
     "text": [
      "7.0: 0.6757\n",
      "7.05: 0.6555\n",
      "7.1: 0.673\n",
      "7.15: 0.6663\n",
      "7.2: 0.6701\n",
      "7.25: 0.6629\n",
      "7.3: 0.6702\n",
      "7.35: 0.6648\n",
      "7.4: 0.6635\n",
      "7.45: 0.6735\n",
      "7.5: -0.609\n",
      "7.55: -0.6092\n",
      "7.6: -0.5912\n",
      "7.65: -0.5998\n",
      "7.7: -0.6207\n",
      "7.75: -0.6081\n",
      "7.8: -0.609\n",
      "7.85: -0.6062\n",
      "7.9: -0.5968\n",
      "7.95: -0.6091\n",
      "8.0: -0.6095\n"
     ]
    }
   ],
   "source": [
    "for d in range(700, 800+1, 5):\n",
    "    d = d/100\n",
    "    attackers = Team(name=\"Attackers\", units=[Unit(hp=60, damage=15) for _ in range(5)])\n",
    "    defenders = Team(name=\"Defenders\", units=[Unit(hp=135, damage=d) for _ in range(5)])\n",
    "    b = Battle(attackers, defenders, print_console=False)\n",
    "    outcomes = []\n",
    "\n",
    "    for _ in range(10000):\n",
    "        outcomes.append(b.simulate(length=15, reset_all=True))\n",
    "    print(f\"{d}: {sum(outcomes)/len(outcomes)}\")"
   ]
  },
  {
   "cell_type": "markdown",
   "metadata": {},
   "source": [
    "Example 2: Confirm value of changepoint"
   ]
  },
  {
   "cell_type": "code",
   "execution_count": 4,
   "metadata": {},
   "outputs": [
    {
     "name": "stdout",
     "output_type": "stream",
     "text": [
      "7.499999999999999: 0.6746\n",
      "7.5: -0.6051\n"
     ]
    }
   ],
   "source": [
    "D1 = 7.5 - 1e-15\n",
    "\n",
    "attackers = Team(name=\"Attackers\", units=[Unit(hp=60, damage=15) for _ in range(5)])\n",
    "defenders = Team(name=\"Defenders\", units=[Unit(hp=135, damage=D1) for _ in range(5)])\n",
    "\n",
    "b = Battle(attackers, defenders, print_console=False)\n",
    "outcomes = []\n",
    "\n",
    "for _ in range(10000):\n",
    "    outcomes.append(b.simulate(length=15, reset_all=True))\n",
    "print(f\"{D1}: {sum(outcomes)/len(outcomes)}\")\n",
    "\n",
    "\n",
    "D2 = 7.5 - 1e-16\n",
    "\n",
    "attackers = Team(name=\"Attackers\", units=[Unit(hp=60, damage=15) for _ in range(5)])\n",
    "defenders = Team(name=\"Defenders\", units=[Unit(hp=135, damage=D2) for _ in range(5)])\n",
    "\n",
    "b = Battle(attackers, defenders, print_console=False)\n",
    "outcomes = []\n",
    "\n",
    "for _ in range(10000):\n",
    "    outcomes.append(b.simulate(length=15, reset_all=True))\n",
    "\n",
    "print(f\"{D2}: {sum(outcomes)/len(outcomes)}\")"
   ]
  },
  {
   "cell_type": "markdown",
   "metadata": {},
   "source": [
    "Example 3: Plot results"
   ]
  },
  {
   "cell_type": "code",
   "execution_count": 9,
   "metadata": {},
   "outputs": [
    {
     "data": {
      "image/png": "[encoded data removed]",
      "text/plain": [
       "<Figure size 640x480 with 1 Axes>"
      ]
     },
     "metadata": {},
     "output_type": "display_data"
    }
   ],
   "source": [
    "x = []\n",
    "y = []\n",
    "\n",
    "for d in range(0, 100+1):\n",
    "    d = d/10\n",
    "    attackers = Team(name=\"Attackers\", units=[Unit(hp=60, damage=15) for _ in range(5)])\n",
    "    defenders = Team(name=\"Defenders\", units=[Unit(hp=135, damage=d) for _ in range(5)])\n",
    "    b = Battle(attackers, defenders, print_console=False)\n",
    "\n",
    "    outcomes = []\n",
    "    for _ in range(10000):\n",
    "        outcomes.append(b.simulate(length=100, reset_all=True))\n",
    "    x.append(d)\n",
    "    y.append(sum(outcomes)/len(outcomes))\n",
    "\n",
    "plt.scatter(x, y)\n",
    "plt.show()"
   ]
  },
  {
   "cell_type": "markdown",
   "metadata": {},
   "source": [
    "Example 4: Generate random team statistics"
   ]
  },
  {
   "cell_type": "code",
   "execution_count": 6,
   "metadata": {},
   "outputs": [
    {
     "name": "stdout",
     "output_type": "stream",
     "text": [
      "1\n",
      "1\n",
      "-1\n",
      "-1\n",
      "1\n",
      "-1\n",
      "1\n",
      "1\n",
      "1\n",
      "1\n",
      "1\n",
      "1\n",
      "-1\n",
      "1\n",
      "-1\n",
      "1\n",
      "1\n",
      "1\n",
      "1\n",
      "1\n",
      "1\n",
      "1\n",
      "1\n",
      "1\n",
      "1\n",
      "1\n",
      "1\n",
      "-1\n",
      "1\n",
      "1\n",
      "1\n",
      "-1\n",
      "1\n",
      "1\n",
      "1\n",
      "1\n",
      "1\n",
      "-1\n",
      "1\n",
      "1\n",
      "1\n",
      "1\n",
      "1\n",
      "1\n",
      "-1\n",
      "1\n",
      "-1\n",
      "1\n",
      "1\n",
      "1\n",
      "1\n",
      "1\n",
      "1\n",
      "-1\n",
      "1\n",
      "1\n",
      "1\n",
      "1\n",
      "1\n",
      "-1\n",
      "1\n",
      "1\n",
      "1\n",
      "-1\n",
      "1\n",
      "1\n",
      "1\n",
      "-1\n",
      "-1\n",
      "-1\n",
      "1\n",
      "1\n",
      "1\n",
      "-1\n",
      "1\n",
      "-1\n",
      "-1\n",
      "1\n",
      "1\n",
      "1\n",
      "1\n",
      "1\n",
      "-1\n",
      "-1\n",
      "1\n",
      "1\n",
      "-1\n",
      "1\n",
      "-1\n",
      "-1\n",
      "1\n",
      "1\n",
      "1\n",
      "1\n",
      "1\n",
      "1\n",
      "1\n",
      "1\n",
      "1\n",
      "1\n"
     ]
    }
   ],
   "source": [
    "for _ in range(100):\n",
    "    attackers = Team(name=\"Attackers\", units=[Unit(hp=random.randint(20, 100), damage=random.randint(5, 30)) for _ in range(5)], strategy=\"Target_Most_D\")\n",
    "    defenders = Team(name=\"Defenders\", units=[Unit(hp=random.randint(20, 100), damage=random.randint(5, 30)) for _ in range(5)], strategy=\"Target_Least_HP\")\n",
    "\n",
    "    b = Battle(attackers, defenders, print_console=False)\n",
    "    print(b.simulate(length=100, reset_all=True))"
   ]
  },
  {
   "cell_type": "markdown",
   "metadata": {},
   "source": [
    "Example 5: Compare different team strategies"
   ]
  },
  {
   "cell_type": "code",
   "execution_count": 7,
   "metadata": {},
   "outputs": [
    {
     "name": "stdout",
     "output_type": "stream",
     "text": [
      "Target_Random vs Target_Random: 0.2306\n",
      "Target_Random vs Target_Least_HP: -0.9998\n",
      "Target_Random vs Target_Most_D: -0.9904\n",
      "Target_Random vs Target_Most_D/HP: -0.9998\n",
      "Target_Least_HP vs Target_Random: 1.0\n",
      "Target_Least_HP vs Target_Least_HP: 1.0\n",
      "Target_Least_HP vs Target_Most_D: 1.0\n",
      "Target_Least_HP vs Target_Most_D/HP: 1.0\n",
      "Target_Most_D vs Target_Random: 0.9876\n",
      "Target_Most_D vs Target_Least_HP: -1.0\n",
      "Target_Most_D vs Target_Most_D: -1.0\n",
      "Target_Most_D vs Target_Most_D/HP: -1.0\n",
      "Target_Most_D/HP vs Target_Random: 1.0\n",
      "Target_Most_D/HP vs Target_Least_HP: 1.0\n",
      "Target_Most_D/HP vs Target_Most_D: 1.0\n",
      "Target_Most_D/HP vs Target_Most_D/HP: 1.0\n"
     ]
    }
   ],
   "source": [
    "strategies = [\"Target_Random\", \"Target_Least_HP\", \"Target_Most_D\", \"Target_Most_D/HP\"]\n",
    "\n",
    "for s1 in strategies:\n",
    "    for s2 in strategies:\n",
    "        attackers = Team(name=\"Attackers\", units=[Unit(hp=60, damage=15) for _ in range(5)] + [Unit(hp=100, damage=20)], strategy=s1)\n",
    "        defenders = Team(name=\"Defenders\", units=[Unit(hp=60, damage=15) for _ in range(4)] + [Unit(hp=100, damage=20) for _ in range(2)], strategy=s2)\n",
    "\n",
    "        outcomes = []\n",
    "        for _ in range(10000):\n",
    "            b = Battle(attackers, defenders, print_console=False)\n",
    "            outcomes.append(b.simulate(length=100, reset_all=True))\n",
    "\n",
    "        print(f\"{s1} vs {s2}: {sum(outcomes)/len(outcomes)}\")"
   ]
  }
 ],
 "metadata": {
  "kernelspec": {
   "display_name": "venv",
   "language": "python",
   "name": "python3"
  },
  "language_info": {
   "codemirror_mode": {
    "name": "ipython",
    "version": 3
   },
   "file_extension": ".py",
   "mimetype": "text/x-python",
   "name": "python",
   "nbconvert_exporter": "python",
   "pygments_lexer": "ipython3",
   "version": "3.11.4"
  },
  "orig_nbformat": 4
 },
 "nbformat": 4,
 "nbformat_minor": 2
}
